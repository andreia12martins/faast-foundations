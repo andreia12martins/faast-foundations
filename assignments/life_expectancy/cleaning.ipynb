{
 "cells": [
  {
   "cell_type": "markdown",
   "metadata": {},
   "source": [
    "# Data Cleaning"
   ]
  },
  {
   "cell_type": "code",
   "execution_count": 1,
   "metadata": {},
   "outputs": [],
   "source": [
    "import pandas as pd"
   ]
  },
  {
   "cell_type": "markdown",
   "metadata": {},
   "source": [
    "i. Loads the eu_life_expectancy_raw.tsv data from the data folder."
   ]
  },
  {
   "cell_type": "code",
   "execution_count": 2,
   "metadata": {},
   "outputs": [],
   "source": [
    "file_path = 'data/eu_life_expectancy_raw.tsv'"
   ]
  },
  {
   "cell_type": "code",
   "execution_count": 3,
   "metadata": {},
   "outputs": [],
   "source": [
    "data = pd.read_csv(file_path, delimiter='\\t')"
   ]
  },
  {
   "cell_type": "code",
   "execution_count": 4,
   "metadata": {},
   "outputs": [
    {
     "name": "stdout",
     "output_type": "stream",
     "text": [
      "<class 'pandas.core.frame.DataFrame'>\n",
      "RangeIndex: 14448 entries, 0 to 14447\n",
      "Data columns (total 63 columns):\n",
      " #   Column                 Non-Null Count  Dtype \n",
      "---  ------                 --------------  ----- \n",
      " 0   unit,sex,age,geo\\time  14448 non-null  object\n",
      " 1   2021                   14448 non-null  object\n",
      " 2   2020                   14448 non-null  object\n",
      " 3   2019                   14448 non-null  object\n",
      " 4   2018                   14448 non-null  object\n",
      " 5   2017                   14448 non-null  object\n",
      " 6   2016                   14448 non-null  object\n",
      " 7   2015                   14448 non-null  object\n",
      " 8   2014                   14448 non-null  object\n",
      " 9   2013                   14448 non-null  object\n",
      " 10  2012                   14448 non-null  object\n",
      " 11  2011                   14448 non-null  object\n",
      " 12  2010                   14448 non-null  object\n",
      " 13  2009                   14448 non-null  object\n",
      " 14  2008                   14448 non-null  object\n",
      " 15  2007                   14448 non-null  object\n",
      " 16  2006                   14448 non-null  object\n",
      " 17  2005                   14448 non-null  object\n",
      " 18  2004                   14448 non-null  object\n",
      " 19  2003                   14448 non-null  object\n",
      " 20  2002                   14448 non-null  object\n",
      " 21  2001                   14448 non-null  object\n",
      " 22  2000                   14448 non-null  object\n",
      " 23  1999                   14448 non-null  object\n",
      " 24  1998                   14448 non-null  object\n",
      " 25  1997                   14448 non-null  object\n",
      " 26  1996                   14448 non-null  object\n",
      " 27  1995                   14448 non-null  object\n",
      " 28  1994                   14448 non-null  object\n",
      " 29  1993                   14448 non-null  object\n",
      " 30  1992                   14448 non-null  object\n",
      " 31  1991                   14448 non-null  object\n",
      " 32  1990                   14448 non-null  object\n",
      " 33  1989                   14448 non-null  object\n",
      " 34  1988                   14448 non-null  object\n",
      " 35  1987                   14448 non-null  object\n",
      " 36  1986                   14448 non-null  object\n",
      " 37  1985                   14448 non-null  object\n",
      " 38  1984                   14448 non-null  object\n",
      " 39  1983                   14448 non-null  object\n",
      " 40  1982                   14448 non-null  object\n",
      " 41  1981                   14448 non-null  object\n",
      " 42  1980                   14448 non-null  object\n",
      " 43  1979                   14448 non-null  object\n",
      " 44  1978                   14448 non-null  object\n",
      " 45  1977                   14448 non-null  object\n",
      " 46  1976                   14448 non-null  object\n",
      " 47  1975                   14448 non-null  object\n",
      " 48  1974                   14448 non-null  object\n",
      " 49  1973                   14448 non-null  object\n",
      " 50  1972                   14448 non-null  object\n",
      " 51  1971                   14448 non-null  object\n",
      " 52  1970                   14448 non-null  object\n",
      " 53  1969                   14448 non-null  object\n",
      " 54  1968                   14448 non-null  object\n",
      " 55  1967                   14448 non-null  object\n",
      " 56  1966                   14448 non-null  object\n",
      " 57  1965                   14448 non-null  object\n",
      " 58  1964                   14448 non-null  object\n",
      " 59  1963                   14448 non-null  object\n",
      " 60  1962                   14448 non-null  object\n",
      " 61  1961                   14448 non-null  object\n",
      " 62  1960                   14448 non-null  object\n",
      "dtypes: object(63)\n",
      "memory usage: 6.9+ MB\n"
     ]
    }
   ],
   "source": [
    "data.info()"
   ]
  },
  {
   "cell_type": "markdown",
   "metadata": {},
   "source": [
    "ii. Unpivots the date to long format, so that we have the following columns: unit, sex, age, region, year, value."
   ]
  },
  {
   "cell_type": "code",
   "execution_count": 5,
   "metadata": {},
   "outputs": [],
   "source": [
    "data['unit'] = data['unit,sex,age,geo\\\\time'].apply(lambda x: x.split(\",\")[0])"
   ]
  },
  {
   "cell_type": "code",
   "execution_count": 6,
   "metadata": {},
   "outputs": [],
   "source": [
    "data['sex'] = data['unit,sex,age,geo\\\\time'].apply(lambda x: x.split(\",\")[1])"
   ]
  },
  {
   "cell_type": "code",
   "execution_count": 7,
   "metadata": {},
   "outputs": [],
   "source": [
    "data['age'] = data['unit,sex,age,geo\\\\time'].apply(lambda x: x.split(\",\")[2])"
   ]
  },
  {
   "cell_type": "code",
   "execution_count": 8,
   "metadata": {},
   "outputs": [],
   "source": [
    "data['geo\\\\time'] = data['unit,sex,age,geo\\\\time'].apply(lambda x: x.split(\",\")[3])"
   ]
  },
  {
   "cell_type": "code",
   "execution_count": 9,
   "metadata": {},
   "outputs": [],
   "source": [
    "data.drop('unit,sex,age,geo\\\\time', axis=1, inplace=True)"
   ]
  },
  {
   "cell_type": "code",
   "execution_count": 10,
   "metadata": {},
   "outputs": [],
   "source": [
    "data = data.melt(id_vars=['unit', 'sex', 'age', 'geo\\\\time'], var_name='year', value_name='value')"
   ]
  },
  {
   "cell_type": "code",
   "execution_count": 11,
   "metadata": {},
   "outputs": [
    {
     "data": {
      "text/html": [
       "<div>\n",
       "<style scoped>\n",
       "    .dataframe tbody tr th:only-of-type {\n",
       "        vertical-align: middle;\n",
       "    }\n",
       "\n",
       "    .dataframe tbody tr th {\n",
       "        vertical-align: top;\n",
       "    }\n",
       "\n",
       "    .dataframe thead th {\n",
       "        text-align: right;\n",
       "    }\n",
       "</style>\n",
       "<table border=\"1\" class=\"dataframe\">\n",
       "  <thead>\n",
       "    <tr style=\"text-align: right;\">\n",
       "      <th></th>\n",
       "      <th>unit</th>\n",
       "      <th>sex</th>\n",
       "      <th>age</th>\n",
       "      <th>geo\\time</th>\n",
       "      <th>year</th>\n",
       "      <th>value</th>\n",
       "    </tr>\n",
       "  </thead>\n",
       "  <tbody>\n",
       "    <tr>\n",
       "      <th>0</th>\n",
       "      <td>YR</td>\n",
       "      <td>F</td>\n",
       "      <td>Y1</td>\n",
       "      <td>AL</td>\n",
       "      <td>2021</td>\n",
       "      <td>:</td>\n",
       "    </tr>\n",
       "    <tr>\n",
       "      <th>1</th>\n",
       "      <td>YR</td>\n",
       "      <td>F</td>\n",
       "      <td>Y1</td>\n",
       "      <td>AM</td>\n",
       "      <td>2021</td>\n",
       "      <td>:</td>\n",
       "    </tr>\n",
       "    <tr>\n",
       "      <th>2</th>\n",
       "      <td>YR</td>\n",
       "      <td>F</td>\n",
       "      <td>Y1</td>\n",
       "      <td>AT</td>\n",
       "      <td>2021</td>\n",
       "      <td>:</td>\n",
       "    </tr>\n",
       "    <tr>\n",
       "      <th>3</th>\n",
       "      <td>YR</td>\n",
       "      <td>F</td>\n",
       "      <td>Y1</td>\n",
       "      <td>AZ</td>\n",
       "      <td>2021</td>\n",
       "      <td>:</td>\n",
       "    </tr>\n",
       "    <tr>\n",
       "      <th>4</th>\n",
       "      <td>YR</td>\n",
       "      <td>F</td>\n",
       "      <td>Y1</td>\n",
       "      <td>BE</td>\n",
       "      <td>2021</td>\n",
       "      <td>:</td>\n",
       "    </tr>\n",
       "  </tbody>\n",
       "</table>\n",
       "</div>"
      ],
      "text/plain": [
       "  unit sex age geo\\time   year value\n",
       "0   YR   F  Y1       AL  2021     : \n",
       "1   YR   F  Y1       AM  2021     : \n",
       "2   YR   F  Y1       AT  2021     : \n",
       "3   YR   F  Y1       AZ  2021     : \n",
       "4   YR   F  Y1       BE  2021     : "
      ]
     },
     "execution_count": 11,
     "metadata": {},
     "output_type": "execute_result"
    }
   ],
   "source": [
    "data.head()"
   ]
  },
  {
   "cell_type": "code",
   "execution_count": 12,
   "metadata": {},
   "outputs": [],
   "source": [
    "data = data.rename(columns={'geo\\\\time': 'region'})"
   ]
  },
  {
   "cell_type": "code",
   "execution_count": 13,
   "metadata": {},
   "outputs": [],
   "source": [
    "regions = data[\"region\"].unique()"
   ]
  },
  {
   "cell_type": "code",
   "execution_count": 14,
   "metadata": {},
   "outputs": [
    {
     "name": "stdout",
     "output_type": "stream",
     "text": [
      "['AL' 'AM' 'AT' 'AZ' 'BE' 'BG' 'BY' 'CH' 'CY' 'CZ' 'DE' 'DE_TOT' 'DK'\n",
      " 'EA18' 'EA19' 'EE' 'EEA30_2007' 'EEA31' 'EFTA' 'EL' 'ES' 'EU27_2007'\n",
      " 'EU27_2020' 'EU28' 'FI' 'FR' 'FX' 'GE' 'HR' 'HU' 'IE' 'IS' 'IT' 'LI' 'LT'\n",
      " 'LU' 'LV' 'MD' 'ME' 'MK' 'MT' 'NL' 'NO' 'PL' 'PT' 'RO' 'RS' 'RU' 'SE'\n",
      " 'SI' 'SK' 'SM' 'TR' 'UA' 'UK' 'XK']\n"
     ]
    }
   ],
   "source": [
    "print(regions)"
   ]
  },
  {
   "cell_type": "markdown",
   "metadata": {},
   "source": [
    "iii. Ensures year is an int (with the appropriate data cleaning if required)"
   ]
  },
  {
   "cell_type": "code",
   "execution_count": 13,
   "metadata": {},
   "outputs": [],
   "source": [
    "data['year'] = data['year'].astype(int)"
   ]
  },
  {
   "cell_type": "markdown",
   "metadata": {},
   "source": [
    "iv. Ensures value is a float (with the appropriate data cleaning if required, and do remove the NaNs)."
   ]
  },
  {
   "cell_type": "code",
   "execution_count": 14,
   "metadata": {},
   "outputs": [
    {
     "data": {
      "text/plain": [
       "value\n",
       ":          421394\n",
       "6.8          1190\n",
       "6.9          1183\n",
       "7.3          1180\n",
       "7.1          1176\n",
       "            ...  \n",
       "54.3 ep         1\n",
       "83.2 p          1\n",
       "55.5 e          1\n",
       "55.3 ep         1\n",
       "1.9             1\n",
       "Name: count, Length: 4049, dtype: int64"
      ]
     },
     "execution_count": 14,
     "metadata": {},
     "output_type": "execute_result"
    }
   ],
   "source": [
    "data['value'].value_counts()"
   ]
  },
  {
   "cell_type": "code",
   "execution_count": 15,
   "metadata": {},
   "outputs": [],
   "source": [
    "data['value'] = data['value'].apply(lambda x: x.split(\" \")[0])"
   ]
  },
  {
   "cell_type": "code",
   "execution_count": 16,
   "metadata": {},
   "outputs": [],
   "source": [
    "data = data.drop(data[data['value'] == ':'].index)"
   ]
  },
  {
   "cell_type": "code",
   "execution_count": 17,
   "metadata": {},
   "outputs": [],
   "source": [
    "data['value'] = data['value'].astype(float)"
   ]
  },
  {
   "cell_type": "code",
   "execution_count": 18,
   "metadata": {},
   "outputs": [
    {
     "data": {
      "text/html": [
       "<div>\n",
       "<style scoped>\n",
       "    .dataframe tbody tr th:only-of-type {\n",
       "        vertical-align: middle;\n",
       "    }\n",
       "\n",
       "    .dataframe tbody tr th {\n",
       "        vertical-align: top;\n",
       "    }\n",
       "\n",
       "    .dataframe thead th {\n",
       "        text-align: right;\n",
       "    }\n",
       "</style>\n",
       "<table border=\"1\" class=\"dataframe\">\n",
       "  <thead>\n",
       "    <tr style=\"text-align: right;\">\n",
       "      <th></th>\n",
       "      <th>unit</th>\n",
       "      <th>sex</th>\n",
       "      <th>age</th>\n",
       "      <th>region</th>\n",
       "      <th>year</th>\n",
       "      <th>value</th>\n",
       "    </tr>\n",
       "  </thead>\n",
       "  <tbody>\n",
       "    <tr>\n",
       "      <th>3418</th>\n",
       "      <td>YR</td>\n",
       "      <td>F</td>\n",
       "      <td>Y65</td>\n",
       "      <td>AT</td>\n",
       "      <td>2021</td>\n",
       "      <td>21.2</td>\n",
       "    </tr>\n",
       "    <tr>\n",
       "      <th>3420</th>\n",
       "      <td>YR</td>\n",
       "      <td>F</td>\n",
       "      <td>Y65</td>\n",
       "      <td>BE</td>\n",
       "      <td>2021</td>\n",
       "      <td>22.2</td>\n",
       "    </tr>\n",
       "    <tr>\n",
       "      <th>3421</th>\n",
       "      <td>YR</td>\n",
       "      <td>F</td>\n",
       "      <td>Y65</td>\n",
       "      <td>BG</td>\n",
       "      <td>2021</td>\n",
       "      <td>15.6</td>\n",
       "    </tr>\n",
       "    <tr>\n",
       "      <th>3423</th>\n",
       "      <td>YR</td>\n",
       "      <td>F</td>\n",
       "      <td>Y65</td>\n",
       "      <td>CH</td>\n",
       "      <td>2021</td>\n",
       "      <td>23.1</td>\n",
       "    </tr>\n",
       "    <tr>\n",
       "      <th>3424</th>\n",
       "      <td>YR</td>\n",
       "      <td>F</td>\n",
       "      <td>Y65</td>\n",
       "      <td>CY</td>\n",
       "      <td>2021</td>\n",
       "      <td>21.2</td>\n",
       "    </tr>\n",
       "    <tr>\n",
       "      <th>3425</th>\n",
       "      <td>YR</td>\n",
       "      <td>F</td>\n",
       "      <td>Y65</td>\n",
       "      <td>CZ</td>\n",
       "      <td>2021</td>\n",
       "      <td>18.7</td>\n",
       "    </tr>\n",
       "    <tr>\n",
       "      <th>3428</th>\n",
       "      <td>YR</td>\n",
       "      <td>F</td>\n",
       "      <td>Y65</td>\n",
       "      <td>DK</td>\n",
       "      <td>2021</td>\n",
       "      <td>20.9</td>\n",
       "    </tr>\n",
       "    <tr>\n",
       "      <th>3431</th>\n",
       "      <td>YR</td>\n",
       "      <td>F</td>\n",
       "      <td>Y65</td>\n",
       "      <td>EE</td>\n",
       "      <td>2021</td>\n",
       "      <td>19.7</td>\n",
       "    </tr>\n",
       "    <tr>\n",
       "      <th>3435</th>\n",
       "      <td>YR</td>\n",
       "      <td>F</td>\n",
       "      <td>Y65</td>\n",
       "      <td>EL</td>\n",
       "      <td>2021</td>\n",
       "      <td>20.8</td>\n",
       "    </tr>\n",
       "    <tr>\n",
       "      <th>3436</th>\n",
       "      <td>YR</td>\n",
       "      <td>F</td>\n",
       "      <td>Y65</td>\n",
       "      <td>ES</td>\n",
       "      <td>2021</td>\n",
       "      <td>23.5</td>\n",
       "    </tr>\n",
       "    <tr>\n",
       "      <th>3438</th>\n",
       "      <td>YR</td>\n",
       "      <td>F</td>\n",
       "      <td>Y65</td>\n",
       "      <td>EU27_2020</td>\n",
       "      <td>2021</td>\n",
       "      <td>20.9</td>\n",
       "    </tr>\n",
       "    <tr>\n",
       "      <th>3440</th>\n",
       "      <td>YR</td>\n",
       "      <td>F</td>\n",
       "      <td>Y65</td>\n",
       "      <td>FI</td>\n",
       "      <td>2021</td>\n",
       "      <td>22.2</td>\n",
       "    </tr>\n",
       "    <tr>\n",
       "      <th>3441</th>\n",
       "      <td>YR</td>\n",
       "      <td>F</td>\n",
       "      <td>Y65</td>\n",
       "      <td>FR</td>\n",
       "      <td>2021</td>\n",
       "      <td>23.4</td>\n",
       "    </tr>\n",
       "    <tr>\n",
       "      <th>3444</th>\n",
       "      <td>YR</td>\n",
       "      <td>F</td>\n",
       "      <td>Y65</td>\n",
       "      <td>HR</td>\n",
       "      <td>2021</td>\n",
       "      <td>18.2</td>\n",
       "    </tr>\n",
       "    <tr>\n",
       "      <th>3445</th>\n",
       "      <td>YR</td>\n",
       "      <td>F</td>\n",
       "      <td>Y65</td>\n",
       "      <td>HU</td>\n",
       "      <td>2021</td>\n",
       "      <td>17.5</td>\n",
       "    </tr>\n",
       "    <tr>\n",
       "      <th>3447</th>\n",
       "      <td>YR</td>\n",
       "      <td>F</td>\n",
       "      <td>Y65</td>\n",
       "      <td>IS</td>\n",
       "      <td>2021</td>\n",
       "      <td>21.9</td>\n",
       "    </tr>\n",
       "    <tr>\n",
       "      <th>3448</th>\n",
       "      <td>YR</td>\n",
       "      <td>F</td>\n",
       "      <td>Y65</td>\n",
       "      <td>IT</td>\n",
       "      <td>2021</td>\n",
       "      <td>22.3</td>\n",
       "    </tr>\n",
       "    <tr>\n",
       "      <th>3449</th>\n",
       "      <td>YR</td>\n",
       "      <td>F</td>\n",
       "      <td>Y65</td>\n",
       "      <td>LI</td>\n",
       "      <td>2021</td>\n",
       "      <td>23.5</td>\n",
       "    </tr>\n",
       "    <tr>\n",
       "      <th>3450</th>\n",
       "      <td>YR</td>\n",
       "      <td>F</td>\n",
       "      <td>Y65</td>\n",
       "      <td>LT</td>\n",
       "      <td>2021</td>\n",
       "      <td>18.3</td>\n",
       "    </tr>\n",
       "    <tr>\n",
       "      <th>3451</th>\n",
       "      <td>YR</td>\n",
       "      <td>F</td>\n",
       "      <td>Y65</td>\n",
       "      <td>LU</td>\n",
       "      <td>2021</td>\n",
       "      <td>22.3</td>\n",
       "    </tr>\n",
       "  </tbody>\n",
       "</table>\n",
       "</div>"
      ],
      "text/plain": [
       "     unit sex  age     region  year  value\n",
       "3418   YR   F  Y65         AT  2021   21.2\n",
       "3420   YR   F  Y65         BE  2021   22.2\n",
       "3421   YR   F  Y65         BG  2021   15.6\n",
       "3423   YR   F  Y65         CH  2021   23.1\n",
       "3424   YR   F  Y65         CY  2021   21.2\n",
       "3425   YR   F  Y65         CZ  2021   18.7\n",
       "3428   YR   F  Y65         DK  2021   20.9\n",
       "3431   YR   F  Y65         EE  2021   19.7\n",
       "3435   YR   F  Y65         EL  2021   20.8\n",
       "3436   YR   F  Y65         ES  2021   23.5\n",
       "3438   YR   F  Y65  EU27_2020  2021   20.9\n",
       "3440   YR   F  Y65         FI  2021   22.2\n",
       "3441   YR   F  Y65         FR  2021   23.4\n",
       "3444   YR   F  Y65         HR  2021   18.2\n",
       "3445   YR   F  Y65         HU  2021   17.5\n",
       "3447   YR   F  Y65         IS  2021   21.9\n",
       "3448   YR   F  Y65         IT  2021   22.3\n",
       "3449   YR   F  Y65         LI  2021   23.5\n",
       "3450   YR   F  Y65         LT  2021   18.3\n",
       "3451   YR   F  Y65         LU  2021   22.3"
      ]
     },
     "execution_count": 18,
     "metadata": {},
     "output_type": "execute_result"
    }
   ],
   "source": [
    "data.head(20)"
   ]
  },
  {
   "cell_type": "markdown",
   "metadata": {},
   "source": [
    "v. Filters only the data where region equal to PT (Portugal)."
   ]
  }
 ],
 "metadata": {
  "kernelspec": {
   "display_name": ".venv",
   "language": "python",
   "name": "python3"
  },
  "language_info": {
   "codemirror_mode": {
    "name": "ipython",
    "version": 3
   },
   "file_extension": ".py",
   "mimetype": "text/x-python",
   "name": "python",
   "nbconvert_exporter": "python",
   "pygments_lexer": "ipython3",
   "version": "3.7.3"
  }
 },
 "nbformat": 4,
 "nbformat_minor": 2
}
